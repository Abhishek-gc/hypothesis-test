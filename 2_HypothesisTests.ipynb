{
 "cells": [
  {
   "cell_type": "code",
   "execution_count": 7,
   "metadata": {},
   "outputs": [],
   "source": [
    "import numpy as np\n",
    "import scipy.stats as stats"
   ]
  },
  {
   "cell_type": "markdown",
   "metadata": {
    "vscode": {
     "languageId": "plaintext"
    }
   },
   "source": [
    "---\n",
    "\n",
    "### **Introduction to Hypothesis Testing & Problem Types**\n",
    "**What is the problem?**  \n",
    "In real-world data analysis, we often need to make decisions based on incomplete information. For example:  \n",
    "- Does a new drug lower blood pressure more effectively than the existing one?  \n",
    "- Does a redesigned website increase sales?  \n",
    "- Are customer preferences for a product linked to their geographic region?  \n",
    "\n",
    "**Hypothesis tests** are statistical tools that help answer these questions objectively. They determine whether observed differences or relationships in data are statistically significant (likely real) or due to random chance.  \n",
    "\n",
    "---\n",
    "\n",
    "### **1. t-Test**  \n",
    "**Problem Example**:  \n",
    "A coffee chain wants to know if a new espresso blend increases average daily sales compared to the old blend. They test the new blend in 10 stores and compare sales to 10 stores using the old blend.  \n",
    "\n",
    "**What does it solve?**  \n",
    "Compares the means of **two groups** (e.g., old vs. new) when sample sizes are small (<30) or population variance is unknown.  \n",
    "\n",
    "**Step-by-Step**:  \n",
    "1. **Define hypotheses**:  \n",
    "   - Null (H₀): No difference in sales (mean_old = mean_new).  \n",
    "   - Alternative (H₁): New blend increases sales (mean_new > mean_old).  \n",
    "2. **Collect data**: Record daily sales for both groups.  \n",
    "3. **Calculate t-statistic**:  \n",
    "   t-test formula = \n",
    "   (Difference in means) / (Standard error of the difference).  \n",
    "4. **Compare to critical value**: If the t-statistic exceeds a threshold (from t-tables), reject H₀.  "
   ]
  },
  {
   "cell_type": "code",
   "execution_count": 8,
   "metadata": {},
   "outputs": [
    {
     "name": "stdout",
     "output_type": "stream",
     "text": [
      "p-value: 0.0080\n",
      "Adopt the new espresso blend, it works!\n"
     ]
    }
   ],
   "source": [
    "\n",
    "# Sample sales data (old vs. new blend)\n",
    "old_sales = [100, 105, 98, 90, 110]\n",
    "new_sales = [115, 120, 112, 108, 118]\n",
    "\n",
    "## t-test\n",
    "t_stat, p_value = stats.ttest_ind(new_sales, old_sales)\n",
    "print(f\"p-value: {p_value:.4f}\")  \n",
    "\n",
    "# Judgment:\n",
    "if p_value < 0.05:\n",
    "    print(\"Adopt the new espresso blend, it works!\")\n",
    "else:\n",
    "    print(\"No significant improvement. Keep the old blend.\")"
   ]
  },
  {
   "cell_type": "markdown",
   "metadata": {},
   "source": [
    "---\n",
    "\n",
    "### **2. z-Test**  \n",
    "**Problem Example**:  \n",
    "A battery manufacturer claims their batteries last 10 hours. A sample of 50 batteries has an average lifespan of 10.3 hours with a known population standard deviation of 0.5 hours. Is this difference significant?  \n",
    "\n",
    "**What does it solve?**  \n",
    "Compares a sample mean to a population mean **when sample sizes are large (≥30) and population variance is known**.  \n",
    "\n",
    "**Step-by-Step**:  \n",
    "1. **Define hypotheses**:  \n",
    "   - H₀: Battery life = 10 hours.  \n",
    "   - H₁: Battery life ≠ 10 hours.  \n",
    "2. **Calculate z-score**:  \n",
    "   z-test =  \n",
    "   (Sample mean - Population mean) / (Population SD / √n).  \n",
    "3. **Compare to z-table**: If |z-score| > 1.96 (for 95% confidence), reject H₀.  \n"
   ]
  },
  {
   "cell_type": "code",
   "execution_count": 6,
   "metadata": {},
   "outputs": [
    {
     "name": "stdout",
     "output_type": "stream",
     "text": [
      "p-value: 0.0000\n",
      "Battery life is significantly different. Update marketing claims.\n"
     ]
    }
   ],
   "source": [
    "\n",
    "population_mean = 10\n",
    "sample_mean = 10.3\n",
    "population_std = 0.5\n",
    "n = 50\n",
    "\n",
    "z_score = (sample_mean - population_mean) / (population_std / (n**0.5))\n",
    "p_value = 2 * (1 - stats.norm.cdf(abs(z_score)))  # Two-tailed test\n",
    "\n",
    "\n",
    "print(f\"p-value: {p_value:.4f}\")  \n",
    "if p_value < 0.05:\n",
    "    print(\"Battery life is significantly different. Update marketing claims.\")\n",
    "else:\n",
    "    print(\"No significant difference. Maintain the original claim.\")"
   ]
  },
  {
   "cell_type": "markdown",
   "metadata": {},
   "source": [
    "---\n",
    "\n",
    "### **3. A/B Test**  \n",
    "**Problem Example**:  \n",
    "An e-commerce company tests two email subject lines (A: \"Sale Ends Soon!\" vs. B: \"Last Chance for 50% Off!\") to see which drives more clicks.  \n",
    "\n",
    "**What does it solve?**  \n",
    "Compares **two versions** (A/B) of a product, webpage, or campaign to determine which performs better. Uses t-tests or z-tests under the hood.  \n",
    "\n",
    "**Step-by-Step**:  \n",
    "1. **Randomly assign users** to Group A or B.  \n",
    "2. **Measure metric** (e.g., click-through rate).  \n",
    "3. **Run t-test or z-test** on the metric.  \n",
    "4. **Conclude**: If Group B’s CTR is significantly higher, adopt it.  "
   ]
  },
  {
   "cell_type": "code",
   "execution_count": 9,
   "metadata": {},
   "outputs": [
    {
     "name": "stdout",
     "output_type": "stream",
     "text": [
      "p-value: 0.0039\n",
      "Launch Version B—it drives more clicks!\n"
     ]
    }
   ],
   "source": [
    "# Using t-test for A/B testing (small sample)\n",
    "clicks_A = [120, 115, 125, 110, 130]  # 500 emails each\n",
    "clicks_B = [140, 135, 145, 130, 150]\n",
    "\n",
    "\n",
    "t_stat, p_value = stats.ttest_ind(clicks_B, clicks_A)\n",
    "\n",
    "print(f\"p-value: {p_value:.4f}\")  \n",
    "if p_value < 0.05:\n",
    "    print(\"Launch Version B—it drives more clicks!\")\n",
    "else:\n",
    "    print(\"No significant difference. Keep testing.\")"
   ]
  },
  {
   "cell_type": "markdown",
   "metadata": {},
   "source": [
    "---\n",
    "\n",
    "### **4. Chi-Square Test**  \n",
    "**Problem Example**:  \n",
    "A retailer wants to know if customer preference for product categories (Electronics, Apparel, Home) differs across regions (North, South, East).  \n",
    "\n",
    "**What does it solve?**  \n",
    "Tests relationships between **categorical variables** (e.g., region vs. product preference).  \n",
    "\n",
    "**Step-by-Step**:  \n",
    "1. **Create contingency table**:  \n",
    "   | Region  | Electronics | Apparel | Home |  \n",
    "   |---------|-------------|---------|------|  \n",
    "   | North   | 50          | 30      | 20   |  \n",
    "   | South   | 40          | 45      | 15   |  \n",
    "2. **Calculate expected counts** (assuming no relationship).  \n",
    "3. **Chi-square statistic**: Σ[(Observed - Expected)² / Expected].  \n",
    "4. **Compare to critical value**: High chi-square → reject H₀.  "
   ]
  },
  {
   "cell_type": "code",
   "execution_count": 10,
   "metadata": {},
   "outputs": [
    {
     "name": "stdout",
     "output_type": "stream",
     "text": [
      "p-value: 0.0896\n",
      "No regional differences. Use a national strategy.\n"
     ]
    }
   ],
   "source": [
    "import numpy as np\n",
    "from scipy.stats import chi2_contingency\n",
    "\n",
    "# Contingency table\n",
    "data = np.array([[50, 30, 20], [40, 45, 15]])\n",
    "\n",
    "chi2_stat, p_value, dof, expected = chi2_contingency(data)\n",
    "\n",
    "print(f\"p-value: {p_value:.4f}\")  \n",
    "if p_value < 0.05:\n",
    "    print(\"Preferences differ by region. Regionalize product offerings.\")\n",
    "else:\n",
    "    print(\"No regional differences. Use a national strategy.\")"
   ]
  },
  {
   "cell_type": "markdown",
   "metadata": {},
   "source": [
    "---\n",
    "\n",
    "### **5. ANOVA (Analysis of Variance)**  \n",
    "**Problem Example**:  \n",
    "A hospital tests three painkillers (A, B, C) to see if recovery times differ.  \n",
    "\n",
    "**What does it solve?**  \n",
    "Compares means of **three or more groups** (e.g., multiple treatments).  \n",
    "\n",
    "**Step-by-Step**:  \n",
    "1. **Define hypotheses**:  \n",
    "   - H₀: All painkillers have the same recovery time.  \n",
    "   - H₁: At least one differs.  \n",
    "2. **Calculate F-statistic**:  \n",
    "   (Variance between groups) / (Variance within groups).  \n",
    "3. **Compare to F-distribution**: High F-value → reject H₀.  \n"
   ]
  },
  {
   "cell_type": "code",
   "execution_count": 12,
   "metadata": {},
   "outputs": [
    {
     "name": "stdout",
     "output_type": "stream",
     "text": [
      "p-value: 0.0000\n",
      "Recovery times differ. Investigate which drug is best.\n"
     ]
    }
   ],
   "source": [
    "from scipy.stats import f_oneway\n",
    "\n",
    "# Recovery times (days) for three drugs\n",
    "drug_A = [3, 4, 5, 4, 3]\n",
    "drug_B = [5, 6, 7, 6, 5]\n",
    "drug_C = [8, 9, 7, 8, 9]\n",
    "\n",
    "f_stat, p_value = f_oneway(drug_A, drug_B, drug_C)\n",
    "\n",
    "print(f\"p-value: {p_value:.4f}\")  \n",
    "if p_value < 0.05:\n",
    "    print(\"Recovery times differ. Investigate which drug is best.\")\n",
    "else:\n",
    "    print(\"All drugs perform similarly. Optimize for cost/safety.\")"
   ]
  },
  {
   "cell_type": "markdown",
   "metadata": {},
   "source": [
    "---\n",
    "\n",
    "### **Choosing the Right Test**  \n",
    "1. **Comparing means**:  \n",
    "   - **Two groups**: t-test (small samples) or z-test (large samples).  \n",
    "   - **Three+ groups**: ANOVA.  \n",
    "2. **Categorical data**: Chi-square test.  \n",
    "3. **A/B testing**: Use t-test/z-test for continuous metrics (e.g., revenue), chi-square for proportions (e.g., conversion rates).  \n",
    "\n"
   ]
  },
  {
   "cell_type": "markdown",
   "metadata": {},
   "source": []
  }
 ],
 "metadata": {
  "kernelspec": {
   "display_name": "agc",
   "language": "python",
   "name": "python3"
  },
  "language_info": {
   "codemirror_mode": {
    "name": "ipython",
    "version": 3
   },
   "file_extension": ".py",
   "mimetype": "text/x-python",
   "name": "python",
   "nbconvert_exporter": "python",
   "pygments_lexer": "ipython3",
   "version": "3.10.14"
  }
 },
 "nbformat": 4,
 "nbformat_minor": 2
}
